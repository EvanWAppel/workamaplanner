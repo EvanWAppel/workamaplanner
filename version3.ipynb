{
 "cells": [
  {
   "cell_type": "markdown",
   "metadata": {},
   "source": [
    "# This Notebook will run reliably."
   ]
  },
  {
   "cell_type": "code",
   "execution_count": null,
   "metadata": {},
   "outputs": [],
   "source": [
    "import requests\n",
    "import classes\n",
    "import json\n",
    "import pprint\n",
    "import pandas as pd\n",
    "from datetime import date, datetime, timedelta\n",
    "from openpyxl import load_workbook\n",
    "import time\n",
    "import os\n",
    "import dateutil.relativedelta as rd"
   ]
  },
  {
   "cell_type": "code",
   "execution_count": null,
   "metadata": {},
   "outputs": [],
   "source": [
    "# Initialize \n",
    "data = classes.pith()"
   ]
  },
  {
   "cell_type": "code",
   "execution_count": null,
   "metadata": {},
   "outputs": [],
   "source": [
    "print((data.default_start,data.default_end))"
   ]
  },
  {
   "cell_type": "code",
   "execution_count": null,
   "metadata": {},
   "outputs": [],
   "source": [
    "# Call Workamajig for employee data\n",
    "response = requests.get(data.emp_api,headers=data.headers)"
   ]
  },
  {
   "cell_type": "code",
   "execution_count": null,
   "metadata": {},
   "outputs": [],
   "source": [
    "print(response.reason)"
   ]
  },
  {
   "cell_type": "code",
   "execution_count": null,
   "metadata": {},
   "outputs": [],
   "source": [
    "# Parse API payload into JSON\n",
    "payload = json.loads(response.content)"
   ]
  },
  {
   "cell_type": "code",
   "execution_count": null,
   "metadata": {},
   "outputs": [],
   "source": [
    "# Produce a list of employees and their identity keys\n",
    "employees = []\n",
    "for i in payload['data']['employee']:\n",
    "    employees.append(i['employeeKey'])"
   ]
  },
  {
   "cell_type": "code",
   "execution_count": null,
   "metadata": {},
   "outputs": [],
   "source": [
    "print(employees)"
   ]
  },
  {
   "cell_type": "code",
   "execution_count": null,
   "metadata": {},
   "outputs": [],
   "source": [
    "# For every employee, retrieve their timesheets\n",
    "sheets = pd.DataFrame()\n",
    "for j in employees:\n",
    "    api_url = data.time_api.format(j)\n",
    "    response = requests.get(api_url,headers=data.headers)\n",
    "    print((response.reason, response.status_code, response.elapsed, j ))\n",
    "    payload = json.loads(response.content)\n",
    "    for k in payload['data']['timesheet']:\n",
    "        sheet = pd.DataFrame(k)\n",
    "        sheets = pd.concat([sheets, sheet])\n",
    "# Former employees will appear as 'Bad Requests'"
   ]
  },
  {
   "cell_type": "code",
   "execution_count": null,
   "metadata": {},
   "outputs": [],
   "source": [
    "# Pull the time entries out of the timesheets\n",
    "times = pd.DataFrame()\n",
    "for k in sheets['TimeEntries']:\n",
    "    df = pd.DataFrame(k,index=[0])\n",
    "    times = pd.concat([times,df])"
   ]
  },
  {
   "cell_type": "code",
   "execution_count": null,
   "metadata": {},
   "outputs": [],
   "source": [
    "# The username isn't on the time entry JSON, so we rejoin the data from sheets to name them.\n",
    "names = sheets[['TimeSheetKey','UserName']].drop_duplicates()"
   ]
  },
  {
   "cell_type": "code",
   "execution_count": null,
   "metadata": {},
   "outputs": [],
   "source": [
    "# Base table is the timesheets and time sessions of all employees since the inception of Workamajig\n",
    "base = pd.merge(times,names,how=\"left\",left_on=\"timeSheetKey\",right_on=\"TimeSheetKey\")"
   ]
  },
  {
   "cell_type": "code",
   "execution_count": null,
   "metadata": {},
   "outputs": [],
   "source": [
    "# Convert the time entries into tasks so that you can figure out the estimates.\n",
    "tasks = base.groupby([\"projectFullName\",\n",
    "                      \"projectNumber\",\n",
    "                      \"taskID\",\n",
    "                      \"workDate\",\n",
    "                      \"UserName\",\n",
    "                      \"serviceCode\",\n",
    "                      \"serviceDescription\",\n",
    "                      \"taskName\", \n",
    "                      \"campaignName\",\n",
    "                      \"clientName\",\n",
    "                      \"taskKey\",\n",
    "                      ],as_index=False).agg({\"actualHours\":\"sum\"})"
   ]
  },
  {
   "cell_type": "code",
   "execution_count": null,
   "metadata": {},
   "outputs": [],
   "source": [
    "# Create Estimates\n",
    "import numpy as np\n",
    "estimates = tasks.groupby(['UserName','taskName','clientName'],as_index=False).agg({'actualHours':\"mean\"})\n",
    "estimates = estimates.rename(columns={\"actualHours\":\"estimate\"})"
   ]
  },
  {
   "cell_type": "code",
   "execution_count": null,
   "metadata": {},
   "outputs": [],
   "source": [
    "def api_cust():\n",
    "    x = str(datetime.now())\n",
    "    # makes the datetime a record in the operating system environment variables\n",
    "    os.environ['API_attempt_at_'+x] = \"1\"\n",
    "    ls = []\n",
    "    # Looks through the variables for...\n",
    "    for i in dict(os.environ).keys():\n",
    "        # our date records...\n",
    "        if i.__contains__('API_ATTEMPT'):\n",
    "            #and turns them back into dates...\n",
    "            x = datetime.strptime(i[15:],\"%Y-%m-%d %H:%M:%S.%f\")\n",
    "            # )But not before making a list of variables that are just sitting out there)\n",
    "            ls.append(i)\n",
    "            # ...Checks to see if the date of the env variable record is older than 15 mins and then drops it if it is.\n",
    "            if x < (datetime.now() - rd.relativedelta(minutes = 15)):\n",
    "                del os.environ[i]\n",
    "    # Depending on how many env variables exist there are so many tries left.\n",
    "    if len(ls) == 0:\n",
    "        m = \"Five calls remaining.\"\n",
    "    elif len(ls) == 1:\n",
    "        m = \"Four calls remaining.\"\n",
    "    elif len(ls) == 2:\n",
    "        m = \"Three calls remaining.\"\n",
    "    elif len(ls) == 3:\n",
    "        m = \"Two calls remaining.\"\n",
    "    elif len(ls) == 4:\n",
    "        m = \"One call remaining.\"\n",
    "    else:\n",
    "        # prints some information about when you can try again.\n",
    "        m = \"Hey, you've overloaded the API. Ease off until \"+ str(datetime.strptime(min(ls)[26:],\"%H:%M:%S.%f\") + rd.relativedelta(minutes = 15))[12:]\n",
    "    print(m)\n",
    "# Create list of all projects\n",
    "def cust_report(data = None ) -> dict:\n",
    "    api_cust()\n",
    "    response = requests.get(data.cust_report_str,headers = data.headers)\n",
    "    content = json.loads(response.content)\n",
    "    proj_table = pd.DataFrame(content['data']['report'])\n",
    "    cust_report_response = response\n",
    "    project_table = proj_table\n",
    "    return {\"response\":cust_report_response,\"project_table\":project_table}\n",
    "# Call function\n",
    "cr = cust_report(data=data)\n",
    "# Project number list creator\n",
    "def proj_numbers(cust_report: pd.DataFrame,data) -> list:\n",
    "    # Table of all projects\n",
    "    proj_list = cust_report\n",
    "    # Date needs to be in Datetsime format\n",
    "    proj_list['first_Task_Start_Date'] = pd.to_datetime(proj_list['first_Task_Start_Date'])\n",
    "    # Project list of just the last year\n",
    "    proj_list = proj_list[(proj_list['first_Task_Start_Date']>(data.timestamp - timedelta(days=data.history_in_days)))]\n",
    "    # Only project number\n",
    "    proj_list = proj_list[['project_Number']]\n",
    "    # Return a copy\n",
    "    proj_list = proj_list['project_Number'].tolist()\n",
    "    return proj_list\n",
    "# Call Function\n",
    "pl = proj_numbers(cust_report=cr['project_table'],data=data)\n"
   ]
  },
  {
   "cell_type": "code",
   "execution_count": null,
   "metadata": {},
   "outputs": [],
   "source": [
    "# Collect tasks for all projects\n",
    "def get_tasks(projects: list, data, sleeper: float = 2.8) -> dict:\n",
    "    x: int = 1\n",
    "    payloads = {}\n",
    "    task_collection: pd.DataFrame = pd.DataFrame()\n",
    "    for i in projects:\n",
    "        print(f\"Now collecting data for project {i}, {x} of {len(projects)}...\")\n",
    "        x = x +1 \n",
    "        response = requests.get(r\"https://app6.workamajig.com/api/beta1/projects?id={}&includeTasks=true\".format(i), headers = data.headers)\n",
    "        content = json.loads(response.content)\n",
    "        contentdatatasks = content['data']['tasks']\n",
    "        tasks = pd.DataFrame(contentdatatasks)\n",
    "        responseB = requests.get(r\"https://app6.workamajig.com/api/beta1/tasks?projectNumber={}\".format(i), headers = data.headers)\n",
    "        contentB = json.loads(responseB.content)\n",
    "        contentdatatasksB = contentB['data']['task']\n",
    "        tasksB = pd.DataFrame(contentdatatasksB)\n",
    "        complete_data = tasksB[[\"taskKey\",\"actComplete\"]]\n",
    "        tasks = pd.merge(tasks,complete_data,how='left',on='taskKey')\n",
    "        tasks = tasks.assign(project_Number = i)\n",
    "        userlist: list = []\n",
    "        for j in contentdatatasks:\n",
    "            user = j['taskUser']\n",
    "            for jj in user:\n",
    "                userlist.append(jj)\n",
    "        if userlist != 0:\n",
    "            try:\n",
    "                tasks = pd.merge(tasks, pd.DataFrame(userlist), how='left', on=\"taskKey\")\n",
    "            except Exception as e:\n",
    "                print(e,end=\"...\")\n",
    "        task_collection = pd.concat([task_collection,tasks])\n",
    "        pl = {\"payload_for_\"+str(i):response}\n",
    "        payloads.update(pl)\n",
    "        time.sleep(sleeper)\n",
    "    return {\"dataset\":task_collection, \"payloads\":payloads}\n",
    "tc = get_tasks(projects=pl,data=data)"
   ]
  },
  {
   "cell_type": "code",
   "execution_count": null,
   "metadata": {},
   "outputs": [],
   "source": [
    "# Apply estimates to full list of tasks\n",
    "pl = pd.DataFrame(pl,columns=[\"projectNumber\"])\n",
    "pl['projectNumber'] = pl['projectNumber'].astype('str')\n",
    "taskset = tc['dataset']\n",
    "taskset['projectNumber'] = taskset['projectNumber'].astype('str')\n",
    "taskset['projectNumber'] = taskset['projectNumber'].str.replace(\".0\",\"\")\n",
    "\n",
    "master = pd.merge(pl,taskset,how='left',on='projectNumber')\n",
    "estimates = estimates.rename(columns={'UserName':\"userName\"})\n",
    "estimates = estimates.groupby(['userName','taskName'],as_index=False).agg({'estimate':np.mean})\n",
    "master = pd.merge(master, estimates,how='left',on=[\"userName\",\"taskName\"])\n",
    "master['actStart'] = pd.to_datetime(master['actStart']).dt.tz_localize(None)\n",
    "master['actComplete'] = pd.to_datetime(master['actComplete']).dt.tz_localize(None)\n",
    "master['planStart'] = pd.to_datetime(master['planStart']).dt.tz_localize(None)\n",
    "master['planComplete'] = pd.to_datetime(master['planComplete']).dt.tz_localize(None)\n",
    "master = master[master['taskName'].str.contains('[Cc}]lient')!=True]\n",
    "\n",
    "unassigned = master[master['userName'].isna()==True]\n",
    "unassigned = master[(master['planStart']>=data.default_start)&(master['planStart']>=data.default_end)]\n",
    "unassigned = unassigned[['projectNumber']].drop_duplicates()"
   ]
  },
  {
   "cell_type": "code",
   "execution_count": null,
   "metadata": {},
   "outputs": [],
   "source": [
    "# Print full dataset as DATA to the capacity planner\n",
    "def summary_table(dataset: pd.DataFrame,start: date,end: date,dest_dir:str):\n",
    "    # Then, overwrite the data tab.\n",
    "    def write_excel(filename,sheetname,dataframe):\n",
    "        with pd.ExcelWriter(filename, engine='openpyxl', mode='a', if_sheet_exists=\"replace\") as writer:\n",
    "            try:\n",
    "                writer.book.remove(writer.book[sheetname])\n",
    "            except:\n",
    "                print(\"Worksheet does not exist\")\n",
    "            finally:\n",
    "                dataframe.to_excel(writer, sheet_name=sheetname,index=False)\n",
    "                #writer.save()\n",
    "    write_excel(dest_dir+r\"\\capacityplanner2.xlsx\",\"DATA\",dataset)\n",
    "    write_excel(dest_dir+r\"\\capacityplanner2.xlsx\",\"UNASSIGNED\",unassigned)\n",
    "    # Write variables into the spreadsheet\n",
    "    wb = load_workbook(dest_dir+r\"\\capacityplanner2.xlsx\",read_only=False)\n",
    "    ws = wb[\"VARIABLES\"]\n",
    "    ws[\"A1\"] = str(\"Variable\")\n",
    "    ws[\"A2\"] = str(\"Start\")\n",
    "    ws[\"B2\"] = str(start)\n",
    "    ws[\"A3\"] = str(\"End\")\n",
    "    ws[\"B3\"] = str(end)\n",
    "    ws[\"A4\"] = str(\"Period Hours\")\n",
    "\n",
    "    if start.strftime(\"%d\") =='01':\n",
    "        b = \"Early {} {}\".format(start.strftime(\"%B\"),start.strftime(\"%Y\"))\n",
    "    elif start.strftime(\"%d\") == '15':\n",
    "        b = \"Late {} {}\".format(start.strftime(\"%B\"),start.strftime(\"%Y\"))\n",
    "    else:\n",
    "        b = \"On {}\".format(start.strftime(\"%d%B%Y\"))\n",
    "\n",
    "    wb.save(dest_dir+r\"\\planners\\planner {}.xlsx\".format(b))\n",
    "    wb.save(dest_dir+r\"\\capacityplanner2.xlsx\")\n",
    "\n",
    "summary_table(dataset=master, start=data.default_start, end=data.default_end,dest_dir=data.dest_dir)"
   ]
  },
  {
   "cell_type": "code",
   "execution_count": null,
   "metadata": {},
   "outputs": [],
   "source": [
    "# Package as an application"
   ]
  },
  {
   "cell_type": "code",
   "execution_count": null,
   "metadata": {},
   "outputs": [],
   "source": [
    "# Stand up on the server for the website"
   ]
  }
 ],
 "metadata": {
  "kernelspec": {
   "display_name": "Python 3",
   "language": "python",
   "name": "python3"
  },
  "language_info": {
   "codemirror_mode": {
    "name": "ipython",
    "version": 3
   },
   "file_extension": ".py",
   "mimetype": "text/x-python",
   "name": "python",
   "nbconvert_exporter": "python",
   "pygments_lexer": "ipython3",
   "version": "3.11.7"
  },
  "orig_nbformat": 4
 },
 "nbformat": 4,
 "nbformat_minor": 2
}
