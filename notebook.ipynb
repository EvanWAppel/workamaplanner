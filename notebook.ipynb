{
 "cells": [
  {
   "cell_type": "code",
   "execution_count": null,
   "metadata": {},
   "outputs": [],
   "source": [
    "import utils\n",
    "\n",
    "data = utils.assumptions()\n",
    "\n",
    "content = utils.get_call(assumptions = data,api_address = utils.assumptions.apis.emp_api.value)\n",
    "# Produce a list of employees and their identity keys\n",
    "employees = utils.employee_list(payload=content[1])\n",
    "# # For every employee, retrieve their timesheets\n",
    "# # Former employees will appear as 'Bad Requests'\n",
    "timedata = utils.timesheet_retrieval(employees = employees, data = data)\n",
    "### 3m 33s\n"
   ]
  },
  {
   "cell_type": "code",
   "execution_count": null,
   "metadata": {},
   "outputs": [],
   "source": [
    "timesheets = timedata['sheets']\n",
    "# # Pull the time entries out of the timesheets\n",
    "time_entries = timedata['time_entries']\n",
    "# # Rejoining names to time entries\n",
    "pre_tasks = utils.pre_tasker(sheets = timesheets, times = time_entries)\n",
    "# # Convert the time entries into tasks so that you can figure out the estimates.\n",
    "tasks = utils.tasker(base = pre_tasks)\n",
    "# # Create Estimates\n",
    "estimates = utils.estimator(tasks = tasks)\n",
    "# # Create List of All Projects\n",
    "custom_report = utils.cust_report(data = data)\n",
    "# # Get project numbers list\n",
    "project_numbers = utils.proj_numbers(project_table = custom_report[\"project_table\"],data = data)\n",
    "# # Get tasks from projects\n",
    "task_collection = utils.get_tasks(projects = project_numbers[0:50], data = data)\n"
   ]
  },
  {
   "cell_type": "code",
   "execution_count": null,
   "metadata": {},
   "outputs": [],
   "source": [
    "# # Apply estimates to full list of tasks\n",
    "estasks = utils.estimate_and_task_join(project_list = project_numbers,taskset = task_collection[0], estimates = estimates,data = data)\n"
   ]
  },
  {
   "cell_type": "code",
   "execution_count": null,
   "metadata": {},
   "outputs": [],
   "source": [
    "print(type(content))\n",
    "print(type(content[0]))\n",
    "print(type(content[1]))"
   ]
  },
  {
   "cell_type": "code",
   "execution_count": null,
   "metadata": {},
   "outputs": [],
   "source": [
    "# # Print full dataset as DATA to the capacity planner\n",
    "utils.summary_table(dataset = estasks, data = data)"
   ]
  },
  {
   "cell_type": "code",
   "execution_count": 3,
   "metadata": {},
   "outputs": [
    {
     "name": "stdout",
     "output_type": "stream",
     "text": [
      "Mode.marcom\n"
     ]
    }
   ],
   "source": [
    "import utils\n",
    "import os.path\n",
    "import os\n",
    "thing = utils.assumptions()"
   ]
  }
 ],
 "metadata": {
  "kernelspec": {
   "display_name": "Python 3",
   "language": "python",
   "name": "python3"
  },
  "language_info": {
   "codemirror_mode": {
    "name": "ipython",
    "version": 3
   },
   "file_extension": ".py",
   "mimetype": "text/x-python",
   "name": "python",
   "nbconvert_exporter": "python",
   "pygments_lexer": "ipython3",
   "version": "3.11.9"
  }
 },
 "nbformat": 4,
 "nbformat_minor": 2
}
